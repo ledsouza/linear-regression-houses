{
 "cells": [
  {
   "cell_type": "markdown",
   "metadata": {
    "id": "df7Z_u20uZnc"
   },
   "source": [
    "# <strong><font color=\"77A316\">Data Science: transformando variáveis para uma Regressão Linear</font></strong>\n",
    "\n",
    "\n",
    "---"
   ]
  },
  {
   "cell_type": "markdown",
   "metadata": {
    "id": "8mrooZBe3CYS"
   },
   "source": [
    "# **Aula 1 - Análises preliminares**"
   ]
  },
  {
   "cell_type": "markdown",
   "metadata": {
    "id": "KeTZ44dj25vH"
   },
   "source": [
    "## **Precificação de imóveis**"
   ]
  },
  {
   "cell_type": "markdown",
   "metadata": {
    "id": "D4EL92EPu5M5"
   },
   "source": [
    "\n",
    "**Problema de negócio:**\n",
    "\n",
    "Você, como **cientista de dados** de uma imobiliária, precisa criar um modelo que consiga estimar os preços de diferentes casas para que o time de vendedores e vendedoras possam negociá-las com potenciais clientes.\n",
    "\n",
    "Para isso, vamos observar as principais características de casas que já foram vendidas de acordo com a base de dados que recebemos, analisar estes dados e construir um modelo de aprendizado de máquina (ML), averiguando sua eficácia.\n",
    "\n",
    "<img src=\"https://raw.githubusercontent.com/afonsosr2/data-science-regressao-linear/main/imagens/casas.webp\" alt=\"Desenho de um conjunto de casas de estilo moderno. Temos casas de 1 a 2 andares\" width=720>\n",
    "\n",
    "**Objetivo**\n",
    "\n",
    "Estimar preços dos imóveis de acordo com diversas características das propriedades, como área e localização. Para este propósito, vamos:\n",
    "\n",
    "* Identificar quais fatores contribuem para a precificação dos imóveis;\n",
    "* Averiguar a influência das características no preço do imóvel;\n",
    "* Diferenciar quando precisamos transformar ou não as variáveis para uma melhor resposta do modelo;\n",
    "* Verificar a relação entre as variáveis explicativas e a variável resposta;\n",
    "* Criar um modelo de regressão linear de múltiplas variáveis;\n",
    "* Fazer previsões para uma ou mais casas.\n",
    "\n",
    "**Base de dados:**\n",
    "\n",
    "Vamos utilizar a base `precos_casa.csv` adaptada de uma base bem conhecida no **Kaggle** chamada [House Prices](https://www.kaggle.com/competitions/house-prices-advanced-regression-techniques/data?select=train.csv).\n",
    "\n",
    "Esses dados serão lidos a partir do repositório compartilhado pelo GitHub.\n",
    "\n",
    "\n",
    "\n",
    "\n",
    "\n",
    "\n",
    "\n"
   ]
  },
  {
   "cell_type": "markdown",
   "metadata": {
    "id": "Q8W9wBTP4HPn"
   },
   "source": [
    "## **1.2 - Conhecendo os dados**\n",
    "\n",
    "---\n",
    "\n"
   ]
  },
  {
   "cell_type": "code",
   "execution_count": 4,
   "metadata": {
    "executionInfo": {
     "elapsed": 3,
     "status": "ok",
     "timestamp": 1716926214979,
     "user": {
      "displayName": "Afonso Augusto Rios",
      "userId": "05972796828124452071"
     },
     "user_tz": 180
    },
    "id": "nl37-rv_C9Vk"
   },
   "outputs": [],
   "source": [
    "import pandas as pd"
   ]
  },
  {
   "cell_type": "code",
   "execution_count": 5,
   "metadata": {
    "executionInfo": {
     "elapsed": 437,
     "status": "ok",
     "timestamp": 1716926215414,
     "user": {
      "displayName": "Afonso Augusto Rios",
      "userId": "05972796828124452071"
     },
     "user_tz": 180
    },
    "id": "v0okHkGnHaRd"
   },
   "outputs": [],
   "source": [
    "dados = pd.read_csv(\"precos_casas.csv\")"
   ]
  },
  {
   "cell_type": "code",
   "execution_count": 6,
   "metadata": {
    "colab": {
     "base_uri": "https://localhost:8080/",
     "height": 163
    },
    "executionInfo": {
     "elapsed": 10,
     "status": "ok",
     "timestamp": 1716926215414,
     "user": {
      "displayName": "Afonso Augusto Rios",
      "userId": "05972796828124452071"
     },
     "user_tz": 180
    },
    "id": "9HZc25OLHkzI",
    "outputId": "e4f58af0-e788-4c29-a10f-f6f136251b18"
   },
   "outputs": [
    {
     "data": {
      "text/html": [
       "<div>\n",
       "<style scoped>\n",
       "    .dataframe tbody tr th:only-of-type {\n",
       "        vertical-align: middle;\n",
       "    }\n",
       "\n",
       "    .dataframe tbody tr th {\n",
       "        vertical-align: top;\n",
       "    }\n",
       "\n",
       "    .dataframe thead th {\n",
       "        text-align: right;\n",
       "    }\n",
       "</style>\n",
       "<table border=\"1\" class=\"dataframe\">\n",
       "  <thead>\n",
       "    <tr style=\"text-align: right;\">\n",
       "      <th></th>\n",
       "      <th>valor</th>\n",
       "      <th>area_primeiro_andar</th>\n",
       "      <th>existe_segundo_andar</th>\n",
       "      <th>area_quintal</th>\n",
       "      <th>dist_metro</th>\n",
       "      <th>dist_parque</th>\n",
       "    </tr>\n",
       "  </thead>\n",
       "  <tbody>\n",
       "    <tr>\n",
       "      <th>0</th>\n",
       "      <td>1042500</td>\n",
       "      <td>79.52</td>\n",
       "      <td>1</td>\n",
       "      <td>23.86</td>\n",
       "      <td>1.639</td>\n",
       "      <td>3.039</td>\n",
       "    </tr>\n",
       "    <tr>\n",
       "      <th>1</th>\n",
       "      <td>907500</td>\n",
       "      <td>117.24</td>\n",
       "      <td>0</td>\n",
       "      <td>35.17</td>\n",
       "      <td>1.538</td>\n",
       "      <td>10.910</td>\n",
       "    </tr>\n",
       "    <tr>\n",
       "      <th>2</th>\n",
       "      <td>1117500</td>\n",
       "      <td>85.47</td>\n",
       "      <td>1</td>\n",
       "      <td>25.64</td>\n",
       "      <td>1.275</td>\n",
       "      <td>11.791</td>\n",
       "    </tr>\n",
       "    <tr>\n",
       "      <th>3</th>\n",
       "      <td>700000</td>\n",
       "      <td>89.28</td>\n",
       "      <td>1</td>\n",
       "      <td>21.07</td>\n",
       "      <td>1.223</td>\n",
       "      <td>10.877</td>\n",
       "    </tr>\n",
       "    <tr>\n",
       "      <th>4</th>\n",
       "      <td>1250000</td>\n",
       "      <td>106.37</td>\n",
       "      <td>1</td>\n",
       "      <td>31.91</td>\n",
       "      <td>0.868</td>\n",
       "      <td>11.247</td>\n",
       "    </tr>\n",
       "  </tbody>\n",
       "</table>\n",
       "</div>"
      ],
      "text/plain": [
       "     valor  area_primeiro_andar  existe_segundo_andar  area_quintal  \\\n",
       "0  1042500                79.52                     1         23.86   \n",
       "1   907500               117.24                     0         35.17   \n",
       "2  1117500                85.47                     1         25.64   \n",
       "3   700000                89.28                     1         21.07   \n",
       "4  1250000               106.37                     1         31.91   \n",
       "\n",
       "   dist_metro  dist_parque  \n",
       "0       1.639        3.039  \n",
       "1       1.538       10.910  \n",
       "2       1.275       11.791  \n",
       "3       1.223       10.877  \n",
       "4       0.868       11.247  "
      ]
     },
     "execution_count": 6,
     "metadata": {},
     "output_type": "execute_result"
    }
   ],
   "source": [
    "dados.head()"
   ]
  },
  {
   "cell_type": "code",
   "execution_count": 7,
   "metadata": {
    "colab": {
     "base_uri": "https://localhost:8080/"
    },
    "executionInfo": {
     "elapsed": 9,
     "status": "ok",
     "timestamp": 1716926215414,
     "user": {
      "displayName": "Afonso Augusto Rios",
      "userId": "05972796828124452071"
     },
     "user_tz": 180
    },
    "id": "LgM396yZHmYI",
    "outputId": "8edba97f-9b33-4efe-ff6a-c9123d37a351"
   },
   "outputs": [
    {
     "data": {
      "text/plain": [
       "(1460, 6)"
      ]
     },
     "execution_count": 7,
     "metadata": {},
     "output_type": "execute_result"
    }
   ],
   "source": [
    "# Verificando a quantidade de dados\n",
    "dados.shape"
   ]
  },
  {
   "cell_type": "code",
   "execution_count": 8,
   "metadata": {
    "colab": {
     "base_uri": "https://localhost:8080/"
    },
    "executionInfo": {
     "elapsed": 8,
     "status": "ok",
     "timestamp": 1716926215414,
     "user": {
      "displayName": "Afonso Augusto Rios",
      "userId": "05972796828124452071"
     },
     "user_tz": 180
    },
    "id": "8vyPVDDn-VrI",
    "outputId": "c5d7f63c-caca-42f3-d2c5-9010548f112d"
   },
   "outputs": [
    {
     "name": "stdout",
     "output_type": "stream",
     "text": [
      "<class 'pandas.core.frame.DataFrame'>\n",
      "RangeIndex: 1460 entries, 0 to 1459\n",
      "Data columns (total 6 columns):\n",
      " #   Column                Non-Null Count  Dtype  \n",
      "---  ------                --------------  -----  \n",
      " 0   valor                 1460 non-null   int64  \n",
      " 1   area_primeiro_andar   1460 non-null   float64\n",
      " 2   existe_segundo_andar  1460 non-null   int64  \n",
      " 3   area_quintal          1460 non-null   float64\n",
      " 4   dist_metro            1460 non-null   float64\n",
      " 5   dist_parque           1460 non-null   float64\n",
      "dtypes: float64(4), int64(2)\n",
      "memory usage: 68.6 KB\n"
     ]
    }
   ],
   "source": [
    "# Como estão os meus dados? Temos dados nulos? Quais são seus tipos?\n",
    "dados.info()"
   ]
  },
  {
   "cell_type": "markdown",
   "metadata": {
    "id": "R6vVuyht4WfE"
   },
   "source": [
    "## **1.3 - Entendendo a relação dos dados**\n",
    "\n",
    "---\n",
    "\n"
   ]
  },
  {
   "cell_type": "markdown",
   "metadata": {
    "id": "5FO1hOorBtuv"
   },
   "source": [
    "Para entender a relação dos dados entre o valor de venda dos imóveis do dataset e suas características vamos utilizar a **Correlação**.\n",
    "\n",
    "Correlação é uma medida estatística que varia numa escala de -1 a 1, indicando a relação e a dependência entre duas variáveis. Existem três tipos principais de correlação:\n",
    "\n",
    "1.   **Correlação Positiva:** quando uma variável aumenta, a outra tende a aumentar.\n",
    "2.   **Correlação Nula:** não há relação linear entre as variáveis.\n",
    "3.   **Correlação Negativa:** quando uma variável aumenta, a outra tende a diminuir.\n",
    "\n",
    "Essa medida não só define a direção, como também, a intensidade da relação.\n",
    "\n"
   ]
  },
  {
   "cell_type": "code",
   "execution_count": 9,
   "metadata": {
    "colab": {
     "base_uri": "https://localhost:8080/",
     "height": 258
    },
    "executionInfo": {
     "elapsed": 8,
     "status": "ok",
     "timestamp": 1716926215415,
     "user": {
      "displayName": "Afonso Augusto Rios",
      "userId": "05972796828124452071"
     },
     "user_tz": 180
    },
    "id": "igFFQMI9EUje",
    "outputId": "2a16ead8-74ad-489f-dc42-2b1b460450c0"
   },
   "outputs": [
    {
     "data": {
      "text/html": [
       "<div>\n",
       "<style scoped>\n",
       "    .dataframe tbody tr th:only-of-type {\n",
       "        vertical-align: middle;\n",
       "    }\n",
       "\n",
       "    .dataframe tbody tr th {\n",
       "        vertical-align: top;\n",
       "    }\n",
       "\n",
       "    .dataframe thead th {\n",
       "        text-align: right;\n",
       "    }\n",
       "</style>\n",
       "<table border=\"1\" class=\"dataframe\">\n",
       "  <thead>\n",
       "    <tr style=\"text-align: right;\">\n",
       "      <th></th>\n",
       "      <th>valor</th>\n",
       "      <th>area_primeiro_andar</th>\n",
       "      <th>existe_segundo_andar</th>\n",
       "      <th>area_quintal</th>\n",
       "      <th>dist_metro</th>\n",
       "      <th>dist_parque</th>\n",
       "    </tr>\n",
       "  </thead>\n",
       "  <tbody>\n",
       "    <tr>\n",
       "      <th>valor</th>\n",
       "      <td>1.000</td>\n",
       "      <td>0.606</td>\n",
       "      <td>0.138</td>\n",
       "      <td>0.614</td>\n",
       "      <td>-0.644</td>\n",
       "      <td>-0.071</td>\n",
       "    </tr>\n",
       "    <tr>\n",
       "      <th>area_primeiro_andar</th>\n",
       "      <td>0.606</td>\n",
       "      <td>1.000</td>\n",
       "      <td>-0.339</td>\n",
       "      <td>0.820</td>\n",
       "      <td>-0.369</td>\n",
       "      <td>-0.058</td>\n",
       "    </tr>\n",
       "    <tr>\n",
       "      <th>existe_segundo_andar</th>\n",
       "      <td>0.138</td>\n",
       "      <td>-0.339</td>\n",
       "      <td>1.000</td>\n",
       "      <td>-0.301</td>\n",
       "      <td>-0.191</td>\n",
       "      <td>-0.007</td>\n",
       "    </tr>\n",
       "    <tr>\n",
       "      <th>area_quintal</th>\n",
       "      <td>0.614</td>\n",
       "      <td>0.820</td>\n",
       "      <td>-0.301</td>\n",
       "      <td>1.000</td>\n",
       "      <td>-0.440</td>\n",
       "      <td>-0.058</td>\n",
       "    </tr>\n",
       "    <tr>\n",
       "      <th>dist_metro</th>\n",
       "      <td>-0.644</td>\n",
       "      <td>-0.369</td>\n",
       "      <td>-0.191</td>\n",
       "      <td>-0.440</td>\n",
       "      <td>1.000</td>\n",
       "      <td>0.089</td>\n",
       "    </tr>\n",
       "    <tr>\n",
       "      <th>dist_parque</th>\n",
       "      <td>-0.071</td>\n",
       "      <td>-0.058</td>\n",
       "      <td>-0.007</td>\n",
       "      <td>-0.058</td>\n",
       "      <td>0.089</td>\n",
       "      <td>1.000</td>\n",
       "    </tr>\n",
       "  </tbody>\n",
       "</table>\n",
       "</div>"
      ],
      "text/plain": [
       "                      valor  area_primeiro_andar  existe_segundo_andar  \\\n",
       "valor                 1.000                0.606                 0.138   \n",
       "area_primeiro_andar   0.606                1.000                -0.339   \n",
       "existe_segundo_andar  0.138               -0.339                 1.000   \n",
       "area_quintal          0.614                0.820                -0.301   \n",
       "dist_metro           -0.644               -0.369                -0.191   \n",
       "dist_parque          -0.071               -0.058                -0.007   \n",
       "\n",
       "                      area_quintal  dist_metro  dist_parque  \n",
       "valor                        0.614      -0.644       -0.071  \n",
       "area_primeiro_andar          0.820      -0.369       -0.058  \n",
       "existe_segundo_andar        -0.301      -0.191       -0.007  \n",
       "area_quintal                 1.000      -0.440       -0.058  \n",
       "dist_metro                  -0.440       1.000        0.089  \n",
       "dist_parque                 -0.058       0.089        1.000  "
      ]
     },
     "execution_count": 9,
     "metadata": {},
     "output_type": "execute_result"
    }
   ],
   "source": [
    "# Correlação entre todo os dados\n",
    "corr = dados.corr().round(3)\n",
    "corr"
   ]
  },
  {
   "cell_type": "code",
   "execution_count": 10,
   "metadata": {
    "colab": {
     "base_uri": "https://localhost:8080/",
     "height": 238
    },
    "executionInfo": {
     "elapsed": 7,
     "status": "ok",
     "timestamp": 1716926215415,
     "user": {
      "displayName": "Afonso Augusto Rios",
      "userId": "05972796828124452071"
     },
     "user_tz": 180
    },
    "id": "5uMVufkWEgXT",
    "outputId": "4a3abef0-2e28-42a2-d261-8f606cc9c42c"
   },
   "outputs": [
    {
     "data": {
      "text/html": [
       "<div>\n",
       "<style scoped>\n",
       "    .dataframe tbody tr th:only-of-type {\n",
       "        vertical-align: middle;\n",
       "    }\n",
       "\n",
       "    .dataframe tbody tr th {\n",
       "        vertical-align: top;\n",
       "    }\n",
       "\n",
       "    .dataframe thead th {\n",
       "        text-align: right;\n",
       "    }\n",
       "</style>\n",
       "<table border=\"1\" class=\"dataframe\">\n",
       "  <thead>\n",
       "    <tr style=\"text-align: right;\">\n",
       "      <th></th>\n",
       "      <th>valor</th>\n",
       "    </tr>\n",
       "  </thead>\n",
       "  <tbody>\n",
       "    <tr>\n",
       "      <th>valor</th>\n",
       "      <td>1.000</td>\n",
       "    </tr>\n",
       "    <tr>\n",
       "      <th>area_primeiro_andar</th>\n",
       "      <td>0.606</td>\n",
       "    </tr>\n",
       "    <tr>\n",
       "      <th>existe_segundo_andar</th>\n",
       "      <td>0.138</td>\n",
       "    </tr>\n",
       "    <tr>\n",
       "      <th>area_quintal</th>\n",
       "      <td>0.614</td>\n",
       "    </tr>\n",
       "    <tr>\n",
       "      <th>dist_metro</th>\n",
       "      <td>-0.644</td>\n",
       "    </tr>\n",
       "    <tr>\n",
       "      <th>dist_parque</th>\n",
       "      <td>-0.071</td>\n",
       "    </tr>\n",
       "  </tbody>\n",
       "</table>\n",
       "</div>"
      ],
      "text/plain": [
       "                      valor\n",
       "valor                 1.000\n",
       "area_primeiro_andar   0.606\n",
       "existe_segundo_andar  0.138\n",
       "area_quintal          0.614\n",
       "dist_metro           -0.644\n",
       "dist_parque          -0.071"
      ]
     },
     "execution_count": 10,
     "metadata": {},
     "output_type": "execute_result"
    }
   ],
   "source": [
    "# Correlação do preço de venda\n",
    "corr[\"valor\"].to_frame()"
   ]
  },
  {
   "cell_type": "markdown",
   "metadata": {
    "id": "ZmdFcMZi-pn2"
   },
   "source": [
    "## **1.4 - Visualizando uma Regressão Linear com uma variável independente**\n",
    "\n",
    "---\n",
    "\n"
   ]
  },
  {
   "cell_type": "markdown",
   "metadata": {
    "id": "WubZjm6FFhjh"
   },
   "source": [
    "Já compreendemos um pouco a relação entre as variáveis e o valor de venda das casas. Mas que tal observarmos isso visualmente, pegando apenas uma das variáves de nossa base?\n",
    "\n",
    "> Não se preocupe que aqui vamos apenas observar o comportamento da variável `valor`em relação a `area_primeiro_andar` rodando um modelo de regressão linear dentro da função `reg_plot()` da biblioteca `seaborn`. Mais a frente implementaremos o nosso próprio modelo!"
   ]
  },
  {
   "cell_type": "code",
   "execution_count": 11,
   "metadata": {
    "executionInfo": {
     "elapsed": 1495,
     "status": "ok",
     "timestamp": 1716926216904,
     "user": {
      "displayName": "Afonso Augusto Rios",
      "userId": "05972796828124452071"
     },
     "user_tz": 180
    },
    "id": "IQPtBK-MF1g7"
   },
   "outputs": [],
   "source": [
    "# Importando as bibliotecas\n",
    "import seaborn as sns\n",
    "import matplotlib.pyplot as plt"
   ]
  },
  {
   "cell_type": "code",
   "execution_count": 12,
   "metadata": {
    "colab": {
     "base_uri": "https://localhost:8080/",
     "height": 465
    },
    "executionInfo": {
     "elapsed": 2761,
     "status": "ok",
     "timestamp": 1716926219664,
     "user": {
      "displayName": "Afonso Augusto Rios",
      "userId": "05972796828124452071"
     },
     "user_tz": 180
    },
    "id": "ZHCuenkXF2Ec",
    "outputId": "af1d308d-7d0b-4a68-9bd4-7bb083716394"
   },
   "outputs": [
    {
     "data": {
      "text/plain": [
       "<Axes: xlabel='area_primeiro_andar', ylabel='valor'>"
      ]
     },
     "execution_count": 12,
     "metadata": {},
     "output_type": "execute_result"
    },
    {
     "data": {
      "image/png": "[encoded data removed]",
      "text/plain": [
       "<Figure size 640x480 with 1 Axes>"
      ]
     },
     "metadata": {},
     "output_type": "display_data"
    }
   ],
   "source": [
    "sns.set_style(\"darkgrid\")\n",
    "sns.regplot(x=\"area_primeiro_andar\", y=\"valor\", data=dados, line_kws={\"color\": \"red\"})"
   ]
  },
  {
   "cell_type": "markdown",
   "metadata": {
    "id": "gVto9V_AI3Q3"
   },
   "source": [
    "Vamos ampliar nossas análises e verificar o comportamento da variável dependente e das variáveis explicativas?"
   ]
  },
  {
   "cell_type": "markdown",
   "metadata": {
    "id": "Tf8Kcb-a-r6W"
   },
   "source": [
    "# **Aula 2 - Análises gráficas**"
   ]
  },
  {
   "cell_type": "markdown",
   "metadata": {
    "id": "N3qmb0aV-tWk"
   },
   "source": [
    "## **2.1 - Visualizando o comportamento da variável dependente**\n",
    "\n",
    "---\n",
    "\n"
   ]
  },
  {
   "cell_type": "markdown",
   "metadata": {
    "id": "7hoxnsbZKGMs"
   },
   "source": [
    "<img src=\"https://github.com/afonsosr2/data-science-regressao-linear/blob/main/imagens/boxplot_y_slide.png?raw=true\" alt=\"Boxplot esperado para a variável dependente\" width=720>"
   ]
  },
  {
   "cell_type": "markdown",
   "metadata": {
    "id": "MuN5I-vvrxrL"
   },
   "source": [
    "O **boxplot** é uma representação visual que mostra a distribuição de dados quantitativos, facilitando comparações entre variáveis ou categorias.\n",
    "\n",
    "Os elementos principais de um boxplot são:\n",
    "\n",
    "* **Caixa:** Representa o intervalo\n",
    "interquartil (IIQ), que vai do primeiro quartil (Q1 - 25% dos dados) ao terceiro quartil (Q3 - 75% dos dados).\n",
    "\n",
    "* **Linha mediana:** Onde está posicionado a mediana (Q2), valor que separa 50% dos dados.\n",
    "\n",
    "* **Whiskers (\"bigodes\"):** Extensões que mostram a variabilidade fora do intervalo interquartil, geralmente até 1,5 vezes o IIQ a partir dos quartis.\n",
    "\n",
    "* **Outliers:** Pontos individuais que estão fora do alcance dos *whiskers*, indicados separadamente.\n",
    "\n",
    "Essa visualização ajuda a identificar a centralidade, dispersão e possíveis outliers em um conjunto de dados."
   ]
  },
  {
   "cell_type": "code",
   "execution_count": null,
   "metadata": {
    "colab": {
     "base_uri": "https://localhost:8080/",
     "height": 245
    },
    "executionInfo": {
     "elapsed": 862,
     "status": "ok",
     "timestamp": 1716926220523,
     "user": {
      "displayName": "Afonso Augusto Rios",
      "userId": "05972796828124452071"
     },
     "user_tz": 180
    },
    "id": "neEExYz7LdsM",
    "outputId": "2e4f8e70-f498-493a-fc60-2b3f0da1dbf3"
   },
   "outputs": [],
   "source": []
  },
  {
   "cell_type": "markdown",
   "metadata": {
    "id": "CNjm0cN55oD3"
   },
   "source": [
    " Esse nosso boxplot está muito para à esquerda. Vamos investigar esse comportamento utilizando outro visual de distribuição dos dados?\n"
   ]
  },
  {
   "cell_type": "markdown",
   "metadata": {
    "id": "UlAdlNN8-tWk"
   },
   "source": [
    "## **2.2 - Investigando a distribuição de frequências da variável dependente**\n",
    "\n",
    "---\n",
    "\n"
   ]
  },
  {
   "cell_type": "code",
   "execution_count": null,
   "metadata": {
    "colab": {
     "base_uri": "https://localhost:8080/",
     "height": 239
    },
    "executionInfo": {
     "elapsed": 1492,
     "status": "ok",
     "timestamp": 1716926222013,
     "user": {
      "displayName": "Afonso Augusto Rios",
      "userId": "05972796828124452071"
     },
     "user_tz": 180
    },
    "id": "bdLu-_nmLePr",
    "outputId": "345df936-28e2-462c-b9db-5a5e2ef87cc8"
   },
   "outputs": [],
   "source": []
  },
  {
   "cell_type": "markdown",
   "metadata": {
    "id": "qGGzWWsxKejP"
   },
   "source": [
    "<img src=\"https://github.com/afonsosr2/data-science-regressao-linear/blob/main/imagens/freq_slide.png?raw=true\" alt=\"Distribuição de frequências para distribuições normais assimétricas à direita, simétrica e assimétrica à esquerda\" width=720>"
   ]
  },
  {
   "cell_type": "markdown",
   "metadata": {
    "id": "gvM8NI1DsBz6"
   },
   "source": [
    "Existem três tipos principais de distribuição de frequências:\n",
    "\n",
    "1. **Distribuição Assimétrica à Direita (Positivamente Assimétrica)**: a cauda longa está à direita da mediana. Neste caso, a média dos dados é maior que a mediana. **Exemplo:** salários em uma empresa, onde poucas pessoas (com cargos mais gerenciais) têm salários mais altos.\n",
    "\n",
    "2. **Distribuição Simétrica**: a distribuição é espelhada em torno das medidas de tendência central. A característica principal é que a média, a mediana e a moda são iguais ou muito próximas.\n",
    "\n",
    "3. **Distribuição Assimétrica à Esquerda (Negativamente Assimétrica)**: a cauda longa está à esquerda da mediana. Neste caso, a média dos dados é menor que a mediana. **Exemplo:** notas de exames onde a maioria dos alunos pontua alto, mas alguns pontuam muito baixo."
   ]
  },
  {
   "cell_type": "markdown",
   "metadata": {
    "id": "Dsz9YO1N6BCW"
   },
   "source": [
    "Observando graficamente o comportamento da variável dependente (Y → Valor do imóvel) descobrimos que estamos tratando de uma **Distribuição Assimétrica à Direita** e sabemos que vamos precisar realizar uma transformação desses dados antes de aplicarmos o modelo.\n",
    "\n",
    "Que tal agora observarmos também as variáveis independentes (explicativas) e como elas estão distribuídas em relação ao valor?\n"
   ]
  },
  {
   "cell_type": "markdown",
   "metadata": {
    "id": "xtXwDugY-uwV"
   },
   "source": [
    "## **2.3 - Analisando as variáveis independentes**\n",
    "\n",
    "---\n",
    "\n"
   ]
  },
  {
   "cell_type": "markdown",
   "metadata": {
    "id": "c-V7_-xA9oLR"
   },
   "source": [
    "Vamos agora plotar o relacionamento das variáveis do dataset levando em conta o valor do imóvel utilizando o `pairplot()`"
   ]
  },
  {
   "cell_type": "code",
   "execution_count": null,
   "metadata": {
    "colab": {
     "base_uri": "https://localhost:8080/"
    },
    "executionInfo": {
     "elapsed": 4,
     "status": "ok",
     "timestamp": 1716926222013,
     "user": {
      "displayName": "Afonso Augusto Rios",
      "userId": "05972796828124452071"
     },
     "user_tz": 180
    },
    "id": "7puCcSAsLfPH",
    "outputId": "6a02f2f6-eaed-4680-d0ef-c58ef9188a71"
   },
   "outputs": [],
   "source": [
    "## Colunas dos dados\n",
    "..."
   ]
  },
  {
   "cell_type": "code",
   "execution_count": null,
   "metadata": {
    "colab": {
     "base_uri": "https://localhost:8080/",
     "height": 159
    },
    "executionInfo": {
     "elapsed": 7250,
     "status": "ok",
     "timestamp": 1716926229260,
     "user": {
      "displayName": "Afonso Augusto Rios",
      "userId": "05972796828124452071"
     },
     "user_tz": 180
    },
    "id": "HWILeHQhLfMG",
    "outputId": "ec1ae72b-df04-4c50-a2f2-d0e0c12466c5"
   },
   "outputs": [],
   "source": [
    "# Pairplot sem reta de regressão\n",
    "..."
   ]
  },
  {
   "cell_type": "markdown",
   "metadata": {
    "id": "56gt3t2q-KUN"
   },
   "source": [
    "Para o pairplot com a reta de regressão vamos retirar a coluna da geração do visual `existe_segundo_andar`."
   ]
  },
  {
   "cell_type": "code",
   "execution_count": null,
   "metadata": {
    "colab": {
     "base_uri": "https://localhost:8080/",
     "height": 194
    },
    "executionInfo": {
     "elapsed": 5318,
     "status": "ok",
     "timestamp": 1716926234575,
     "user": {
      "displayName": "Afonso Augusto Rios",
      "userId": "05972796828124452071"
     },
     "user_tz": 180
    },
    "id": "GjDIRrZFLfJO",
    "outputId": "a5f52448-709a-4fa1-c40d-3bb9b7f1a21d"
   },
   "outputs": [],
   "source": [
    "# Pairplot com reta de regressão\n",
    "..."
   ]
  },
  {
   "cell_type": "markdown",
   "metadata": {
    "id": "AW5lpZNd-tDT"
   },
   "source": [
    "Já vimos coisas interessantes aqui! Vamos partir para a transformação das variáveis? E qual tipo de transformação vamos fazer?"
   ]
  },
  {
   "cell_type": "markdown",
   "metadata": {
    "id": "_dk1bDmJ-wTp"
   },
   "source": [
    "# **Aula 3 - Transformação de variáveis**"
   ]
  },
  {
   "cell_type": "markdown",
   "metadata": {
    "id": "kWfWLdPL-uwV"
   },
   "source": [
    "## **Curva log**\n",
    "\n",
    "---\n",
    "\n"
   ]
  },
  {
   "cell_type": "markdown",
   "metadata": {
    "id": "ggty1KlMLBt1"
   },
   "source": [
    "<img src=\"https://github.com/afonsosr2/data-science-regressao-linear/blob/main/imagens/curva_log_slide.png?raw=true\" alt=\"Gráfico representando a curva de um logarítmo neperiano (ln(x))\" width=720>"
   ]
  },
  {
   "cell_type": "markdown",
   "metadata": {
    "id": "RWEQV-w1J-9d"
   },
   "source": [
    "A **curva log** é uma representação gráfica de uma função logarítmica, especificamente usando o **logaritmo natural** ($ln$), que tem a base $e$ (aproximadamente igual a 2,718). Ela serve para transformar dados exponenciais em uma escala linear.\n",
    "\n",
    "A função logarítmica natural é definida como $y = ln(x)$, onde $x > 0$. Essa curva é largamente utilizada para ajustar dados que crescem rapidamente, facilitando a visualização e a interpretação.\n",
    "\n",
    "Sua característica principal é o crescimento da curva, mas a uma taxa decrescente. Ou seja, temos um achatamento da curva conforme o valor de $x$ aumenta. Isso faz com que grandes valores possam ser descritos numa mesma visualização que pequenos valores (i.e. 1, 10, 100 e 1000).\n"
   ]
  },
  {
   "cell_type": "code",
   "execution_count": 15,
   "metadata": {
    "executionInfo": {
     "elapsed": 14,
     "status": "ok",
     "timestamp": 1716926234576,
     "user": {
      "displayName": "Afonso Augusto Rios",
      "userId": "05972796828124452071"
     },
     "user_tz": 180
    },
    "id": "prMytsmQJO7S"
   },
   "outputs": [],
   "source": [
    "import numpy as np"
   ]
  },
  {
   "cell_type": "code",
   "execution_count": 16,
   "metadata": {
    "colab": {
     "base_uri": "https://localhost:8080/"
    },
    "executionInfo": {
     "elapsed": 13,
     "status": "ok",
     "timestamp": 1716926234576,
     "user": {
      "displayName": "Afonso Augusto Rios",
      "userId": "05972796828124452071"
     },
     "user_tz": 180
    },
    "id": "To3W5B7jJO4S",
    "outputId": "5509f6ef-42ab-424b-9d68-21ca9db6ad82"
   },
   "outputs": [
    {
     "name": "stderr",
     "output_type": "stream",
     "text": [
      "C:\\Users\\Afonso\\AppData\\Local\\Temp\\ipykernel_4624\\2933082444.py:1: RuntimeWarning: divide by zero encountered in log\n",
      "  np.log(0)\n"
     ]
    },
    {
     "data": {
      "text/plain": [
       "-inf"
      ]
     },
     "execution_count": 16,
     "metadata": {},
     "output_type": "execute_result"
    }
   ],
   "source": [
    "np.log(0)"
   ]
  },
  {
   "cell_type": "code",
   "execution_count": 17,
   "metadata": {
    "colab": {
     "base_uri": "https://localhost:8080/"
    },
    "executionInfo": {
     "elapsed": 12,
     "status": "ok",
     "timestamp": 1716926234576,
     "user": {
      "displayName": "Afonso Augusto Rios",
      "userId": "05972796828124452071"
     },
     "user_tz": 180
    },
    "id": "GfGsvBuNJO1I",
    "outputId": "e04efd2f-717c-436f-d313-950c18608fe8"
   },
   "outputs": [
    {
     "data": {
      "text/plain": [
       "0.0"
      ]
     },
     "execution_count": 17,
     "metadata": {},
     "output_type": "execute_result"
    }
   ],
   "source": [
    "np.log(1)"
   ]
  },
  {
   "cell_type": "code",
   "execution_count": 18,
   "metadata": {
    "colab": {
     "base_uri": "https://localhost:8080/"
    },
    "executionInfo": {
     "elapsed": 10,
     "status": "ok",
     "timestamp": 1716926234576,
     "user": {
      "displayName": "Afonso Augusto Rios",
      "userId": "05972796828124452071"
     },
     "user_tz": 180
    },
    "id": "qmI2FZfXFGla",
    "outputId": "86de2f75-d72d-42a4-b347-0cfcefedc73b"
   },
   "outputs": [
    {
     "data": {
      "text/plain": [
       "13.815510557964274"
      ]
     },
     "execution_count": 18,
     "metadata": {},
     "output_type": "execute_result"
    }
   ],
   "source": [
    "np.log(1_000_000)"
   ]
  },
  {
   "cell_type": "markdown",
   "metadata": {
    "id": "ZnT1tqYBJWcx"
   },
   "source": [
    "É possível observar que queremos evitar de calcular o log de 0, portanto, vamos precisar de atenção ao analisar os dados antes de efetuar a transformação logarítmica. Vamos transformar nossos dados e observar o que seria um modelo log-log?"
   ]
  },
  {
   "cell_type": "markdown",
   "metadata": {
    "id": "ac5Cf_ni-zC0"
   },
   "source": [
    "## **3.1 - Transformando os dados**\n",
    "\n",
    "---\n",
    "\n"
   ]
  },
  {
   "cell_type": "markdown",
   "metadata": {
    "id": "cvF2DDs0tNLB"
   },
   "source": [
    "<img src=\"https://github.com/afonsosr2/data-science-regressao-linear/blob/main/imagens/modelo_log-log_slides.png?raw=true\" alt=\"Apresentando a transformação logarítmica de um modelo log-linear\">"
   ]
  },
  {
   "cell_type": "markdown",
   "metadata": {
    "id": "PGkzTEAAKkCv"
   },
   "source": [
    "### **Aplicando a transformação logarítmica**\n",
    "\n",
    "* [np.log()](https://numpy.org/doc/stable/reference/generated/numpy.log.html)\n",
    "* [np.log1p()](https://numpy.org/doc/stable/reference/generated/numpy.log1p.html)"
   ]
  },
  {
   "cell_type": "code",
   "execution_count": null,
   "metadata": {
    "colab": {
     "base_uri": "https://localhost:8080/",
     "height": 320
    },
    "executionInfo": {
     "elapsed": 8,
     "status": "ok",
     "timestamp": 1716926234576,
     "user": {
      "displayName": "Afonso Augusto Rios",
      "userId": "05972796828124452071"
     },
     "user_tz": 180
    },
    "id": "XRGIzzNzQ1WP",
    "outputId": "b646cdea-f3f0-4113-c0af-d8ad72974b15"
   },
   "outputs": [],
   "source": [
    "# Verificando se há 0 nas variáveis explicativas do nosso df\n",
    "..."
   ]
  },
  {
   "cell_type": "code",
   "execution_count": 20,
   "metadata": {
    "executionInfo": {
     "elapsed": 7,
     "status": "ok",
     "timestamp": 1716926234576,
     "user": {
      "displayName": "Afonso Augusto Rios",
      "userId": "05972796828124452071"
     },
     "user_tz": 180
    },
    "id": "IFK9HGZuQ1Rl"
   },
   "outputs": [],
   "source": [
    "# Transformando as variáveis explicativas e resposta utilizando o logaritmo\n",
    "..."
   ]
  },
  {
   "cell_type": "code",
   "execution_count": null,
   "metadata": {
    "colab": {
     "base_uri": "https://localhost:8080/",
     "height": 163
    },
    "executionInfo": {
     "elapsed": 7,
     "status": "ok",
     "timestamp": 1716926234576,
     "user": {
      "displayName": "Afonso Augusto Rios",
      "userId": "05972796828124452071"
     },
     "user_tz": 180
    },
    "id": "8-eH3TkqQ1Mb",
    "outputId": "224b403f-7d5e-477a-c476-3142c241176d"
   },
   "outputs": [],
   "source": [
    "# Lendo os dados\n",
    "..."
   ]
  },
  {
   "cell_type": "markdown",
   "metadata": {
    "id": "sYZIsfCgO01L"
   },
   "source": [
    "Agora que fizemos a transformação dos dados, vamos verificar como ficaram as nossas variáveis graficamente?"
   ]
  },
  {
   "cell_type": "code",
   "execution_count": null,
   "metadata": {
    "colab": {
     "base_uri": "https://localhost:8080/",
     "height": 377
    },
    "executionInfo": {
     "elapsed": 1156,
     "status": "ok",
     "timestamp": 1716926235726,
     "user": {
      "displayName": "Afonso Augusto Rios",
      "userId": "05972796828124452071"
     },
     "user_tz": 180
    },
    "id": "X6t6q2ldRfCY",
    "outputId": "8b919a24-7ea8-4fa8-a74a-ada4f6e1da7f"
   },
   "outputs": [],
   "source": [
    "...\n",
    "\n",
    "ax.figure.set_size_inches(12, 6)\n",
    "ax.set_title('Distribuição de frequência', fontsize=20)\n",
    "ax.set_xlabel('Log do Valor dos imóveis', fontsize=16)\n",
    "plt.show()"
   ]
  },
  {
   "cell_type": "markdown",
   "metadata": {
    "id": "XBfpyrvxP6Gz"
   },
   "source": [
    "Vamos agora analisar como ficaram também as distribuições de nossas variáveis explicativas separadamente de acordo com o valor do imóvel?"
   ]
  },
  {
   "cell_type": "markdown",
   "metadata": {
    "id": "MvrGvMOF-zC0"
   },
   "source": [
    "## **3.2 - Verificando a relação linear**\n",
    "\n",
    "---\n",
    "\n"
   ]
  },
  {
   "cell_type": "markdown",
   "metadata": {
    "id": "wZJiRsRXQMD1"
   },
   "source": [
    "Vamos utilizar basicamente o mesmo código, só lembrando de colocar o `log_` em todas que sofreram uma transformação logarítmica"
   ]
  },
  {
   "cell_type": "code",
   "execution_count": null,
   "metadata": {
    "colab": {
     "base_uri": "https://localhost:8080/",
     "height": 156
    },
    "executionInfo": {
     "elapsed": 6206,
     "status": "ok",
     "timestamp": 1716926241929,
     "user": {
      "displayName": "Afonso Augusto Rios",
      "userId": "05972796828124452071"
     },
     "user_tz": 180
    },
    "id": "AYwLP-kGRe62",
    "outputId": "30b22f7a-1a82-49bc-f6cd-15a01a22c18c"
   },
   "outputs": [],
   "source": []
  },
  {
   "cell_type": "markdown",
   "metadata": {
    "id": "EmloQ9pI-11l"
   },
   "source": [
    "# **Aula 4 - Regressão linear múltipla**"
   ]
  },
  {
   "cell_type": "markdown",
   "metadata": {
    "id": "wGJMJW-y-11l"
   },
   "source": [
    "## **4.1 - Preparando os dados**\n",
    "\n",
    "---\n",
    "\n"
   ]
  },
  {
   "cell_type": "markdown",
   "metadata": {
    "id": "HmA6UHwMUCQh"
   },
   "source": [
    "O primeiro passo para criação do nosso modelo de Regressão Linear é a separação dos dados entre datasets de treino e teste."
   ]
  },
  {
   "cell_type": "code",
   "execution_count": 24,
   "metadata": {
    "executionInfo": {
     "elapsed": 462,
     "status": "ok",
     "timestamp": 1716926242380,
     "user": {
      "displayName": "Afonso Augusto Rios",
      "userId": "05972796828124452071"
     },
     "user_tz": 180
    },
    "id": "siryUkxKRQ4v"
   },
   "outputs": [],
   "source": [
    "# Importando o método de separação dos dados de treino e teste\n",
    "..."
   ]
  },
  {
   "cell_type": "code",
   "execution_count": 25,
   "metadata": {
    "executionInfo": {
     "elapsed": 11,
     "status": "ok",
     "timestamp": 1716926242380,
     "user": {
      "displayName": "Afonso Augusto Rios",
      "userId": "05972796828124452071"
     },
     "user_tz": 180
    },
    "id": "fwrD_PvKRQ1y"
   },
   "outputs": [],
   "source": [
    "# Definindo X e y\n",
    "..."
   ]
  },
  {
   "cell_type": "markdown",
   "metadata": {
    "id": "yx5ECV5PUd_B"
   },
   "source": [
    "#### **Vamos compreender o método** `train_test_split`?"
   ]
  },
  {
   "cell_type": "code",
   "execution_count": null,
   "metadata": {
    "collapsed": true,
    "id": "uGdaLY2GVa7L"
   },
   "outputs": [],
   "source": [
    "help(train_test_split)"
   ]
  },
  {
   "cell_type": "code",
   "execution_count": 27,
   "metadata": {
    "executionInfo": {
     "elapsed": 11,
     "status": "ok",
     "timestamp": 1716926242381,
     "user": {
      "displayName": "Afonso Augusto Rios",
      "userId": "05972796828124452071"
     },
     "user_tz": 180
    },
    "id": "if0hCZjPSSCa"
   },
   "outputs": [],
   "source": [
    "# Dividindo os dados\n",
    "..."
   ]
  },
  {
   "cell_type": "code",
   "execution_count": null,
   "metadata": {
    "colab": {
     "base_uri": "https://localhost:8080/",
     "height": 444
    },
    "executionInfo": {
     "elapsed": 10,
     "status": "ok",
     "timestamp": 1716926242381,
     "user": {
      "displayName": "Afonso Augusto Rios",
      "userId": "05972796828124452071"
     },
     "user_tz": 180
    },
    "id": "_gItQ5ZRSmAy",
    "outputId": "cbbf262e-55ed-49dc-c42e-93b7899a1c00"
   },
   "outputs": [],
   "source": []
  },
  {
   "cell_type": "code",
   "execution_count": null,
   "metadata": {
    "colab": {
     "base_uri": "https://localhost:8080/"
    },
    "executionInfo": {
     "elapsed": 9,
     "status": "ok",
     "timestamp": 1716926242381,
     "user": {
      "displayName": "Afonso Augusto Rios",
      "userId": "05972796828124452071"
     },
     "user_tz": 180
    },
    "id": "q5c5mhyWSoeX",
    "outputId": "a3ebfd73-9cf6-48ba-928d-d936be230077"
   },
   "outputs": [],
   "source": []
  },
  {
   "cell_type": "markdown",
   "metadata": {
    "id": "RY2orM9K-11l"
   },
   "source": [
    "## **4.2 - Avaliando as estatísticas do modelo com Statsmodels**\n",
    "\n",
    "---\n",
    "\n"
   ]
  },
  {
   "cell_type": "markdown",
   "metadata": {
    "id": "IOEUvkxPVym1"
   },
   "source": [
    "Agora vamos estimar nosso modelo inicialmente com Statsmodels verificando as estatísticas do modelo para o caso de todas as variáveis adicionadas."
   ]
  },
  {
   "cell_type": "code",
   "execution_count": 30,
   "metadata": {
    "executionInfo": {
     "elapsed": 1211,
     "status": "ok",
     "timestamp": 1716926243586,
     "user": {
      "displayName": "Afonso Augusto Rios",
      "userId": "05972796828124452071"
     },
     "user_tz": 180
    },
    "id": "RJvNYrGnRRbx"
   },
   "outputs": [],
   "source": []
  },
  {
   "cell_type": "code",
   "execution_count": 31,
   "metadata": {
    "executionInfo": {
     "elapsed": 11,
     "status": "ok",
     "timestamp": 1716926243587,
     "user": {
      "displayName": "Afonso Augusto Rios",
      "userId": "05972796828124452071"
     },
     "user_tz": 180
    },
    "id": "Qdeemf0ORRY4"
   },
   "outputs": [],
   "source": []
  },
  {
   "cell_type": "code",
   "execution_count": null,
   "metadata": {
    "colab": {
     "base_uri": "https://localhost:8080/",
     "height": 226
    },
    "executionInfo": {
     "elapsed": 10,
     "status": "ok",
     "timestamp": 1716926243587,
     "user": {
      "displayName": "Afonso Augusto Rios",
      "userId": "05972796828124452071"
     },
     "user_tz": 180
    },
    "id": "VUXYuu8sTepF",
    "outputId": "335d3345-0302-4bcc-88b7-f5f6610a1fef"
   },
   "outputs": [],
   "source": []
  },
  {
   "cell_type": "code",
   "execution_count": null,
   "metadata": {
    "colab": {
     "base_uri": "https://localhost:8080/"
    },
    "executionInfo": {
     "elapsed": 9,
     "status": "ok",
     "timestamp": 1716926243588,
     "user": {
      "displayName": "Afonso Augusto Rios",
      "userId": "05972796828124452071"
     },
     "user_tz": 180
    },
    "id": "N96qnExXRRV-",
    "outputId": "42913604-4bfb-4717-d259-f5fd9a48152d"
   },
   "outputs": [],
   "source": [
    "..."
   ]
  },
  {
   "cell_type": "markdown",
   "metadata": {
    "id": "zL6swmlI-11l"
   },
   "source": [
    "## **4.3 - Treinando o modelo**\n",
    "\n",
    "---\n",
    "\n"
   ]
  },
  {
   "cell_type": "code",
   "execution_count": 34,
   "metadata": {
    "executionInfo": {
     "elapsed": 470,
     "status": "ok",
     "timestamp": 1716926244051,
     "user": {
      "displayName": "Afonso Augusto Rios",
      "userId": "05972796828124452071"
     },
     "user_tz": 180
    },
    "id": "Qcv4CUzqRVOT"
   },
   "outputs": [],
   "source": []
  },
  {
   "cell_type": "code",
   "execution_count": 35,
   "metadata": {
    "executionInfo": {
     "elapsed": 13,
     "status": "ok",
     "timestamp": 1716926244051,
     "user": {
      "displayName": "Afonso Augusto Rios",
      "userId": "05972796828124452071"
     },
     "user_tz": 180
    },
    "id": "sEzJeitYRVLo"
   },
   "outputs": [],
   "source": [
    "# Atualizando as variáveis de entrada do modelo\n",
    "..."
   ]
  },
  {
   "cell_type": "code",
   "execution_count": null,
   "metadata": {
    "colab": {
     "base_uri": "https://localhost:8080/",
     "height": 226
    },
    "executionInfo": {
     "elapsed": 13,
     "status": "ok",
     "timestamp": 1716926244052,
     "user": {
      "displayName": "Afonso Augusto Rios",
      "userId": "05972796828124452071"
     },
     "user_tz": 180
    },
    "id": "ge2asuQwWz_u",
    "outputId": "243db45d-8696-46ec-c62d-c20d532f04dd"
   },
   "outputs": [],
   "source": [
    "# Verificando o X_train_novo\n",
    "..."
   ]
  },
  {
   "cell_type": "code",
   "execution_count": 37,
   "metadata": {
    "executionInfo": {
     "elapsed": 12,
     "status": "ok",
     "timestamp": 1716926244052,
     "user": {
      "displayName": "Afonso Augusto Rios",
      "userId": "05972796828124452071"
     },
     "user_tz": 180
    },
    "id": "Xzn5w90AW8Rg"
   },
   "outputs": [],
   "source": [
    "# Instanciando o modelo\n",
    "..."
   ]
  },
  {
   "cell_type": "code",
   "execution_count": null,
   "metadata": {
    "colab": {
     "base_uri": "https://localhost:8080/",
     "height": 75
    },
    "executionInfo": {
     "elapsed": 12,
     "status": "ok",
     "timestamp": 1716926244052,
     "user": {
      "displayName": "Afonso Augusto Rios",
      "userId": "05972796828124452071"
     },
     "user_tz": 180
    },
    "id": "vDLO0YB0XLKm",
    "outputId": "c24c7dc7-2bf6-4fff-cbd4-6cbd0064862d"
   },
   "outputs": [],
   "source": [
    "# Treinando o modelo com os dados de treino\n",
    "..."
   ]
  },
  {
   "cell_type": "markdown",
   "metadata": {
    "id": "P54tJv6wXohw"
   },
   "source": [
    "### **Obtendo o coeficiente de determinação (R²) do modelo estimado com os dados de treino**\n",
    "\n",
    "O coeficiente de determinação (R²) é uma medida resumida, variando de 0 a 1, que diz quanto a linha de regressão ajusta-se aos dados.\n",
    "\n",
    "Por exemplo, um R² = 0.8 representa que 80% da variação da variável dependente é explicada pelas variáveis independentes escolhidas no modelo."
   ]
  },
  {
   "cell_type": "markdown",
   "metadata": {
    "id": "jma6WMJuY3Ca"
   },
   "source": [
    "#### **R² dos dados de treino**"
   ]
  },
  {
   "cell_type": "code",
   "execution_count": null,
   "metadata": {
    "colab": {
     "base_uri": "https://localhost:8080/"
    },
    "executionInfo": {
     "elapsed": 12,
     "status": "ok",
     "timestamp": 1716926244052,
     "user": {
      "displayName": "Afonso Augusto Rios",
      "userId": "05972796828124452071"
     },
     "user_tz": 180
    },
    "id": "fiRe5bziY2W1",
    "outputId": "917abea6-ab6c-42bb-e75d-5bb3fcf9edbf"
   },
   "outputs": [],
   "source": []
  },
  {
   "cell_type": "markdown",
   "metadata": {
    "id": "fJFoz798ZTpD"
   },
   "source": [
    "#### **Gerando previsões para os dados de teste do modelo**"
   ]
  },
  {
   "cell_type": "code",
   "execution_count": 40,
   "metadata": {
    "executionInfo": {
     "elapsed": 10,
     "status": "ok",
     "timestamp": 1716926244052,
     "user": {
      "displayName": "Afonso Augusto Rios",
      "userId": "05972796828124452071"
     },
     "user_tz": 180
    },
    "id": "xAfjEDXqXj9O"
   },
   "outputs": [],
   "source": []
  },
  {
   "cell_type": "markdown",
   "metadata": {
    "id": "GFg6kHpsZN3Y"
   },
   "source": [
    "#### **R² dos dados de previsão**"
   ]
  },
  {
   "cell_type": "code",
   "execution_count": null,
   "metadata": {
    "colab": {
     "base_uri": "https://localhost:8080/"
    },
    "executionInfo": {
     "elapsed": 10,
     "status": "ok",
     "timestamp": 1716926244052,
     "user": {
      "displayName": "Afonso Augusto Rios",
      "userId": "05972796828124452071"
     },
     "user_tz": 180
    },
    "id": "Gh3Gciz9Xj5P",
    "outputId": "4286b3d8-631e-4002-eb8e-357ab3ffe9ff"
   },
   "outputs": [],
   "source": []
  },
  {
   "cell_type": "markdown",
   "metadata": {
    "id": "GU_gAruS-3-J"
   },
   "source": [
    "## **4.4 - Precificando uma casa**\n",
    "\n",
    "---\n",
    "\n"
   ]
  },
  {
   "cell_type": "markdown",
   "metadata": {
    "id": "WV5OknUHp_6Y"
   },
   "source": [
    "<img src=\"https://github.com/afonsosr2/data-science-regressao-linear/blob/main/imagens/quanto_custa_slide.png?raw=true\" alt=\"Imagem de uma casa e suas características para precificação\" width=720>"
   ]
  },
  {
   "cell_type": "code",
   "execution_count": null,
   "metadata": {
    "colab": {
     "base_uri": "https://localhost:8080/"
    },
    "executionInfo": {
     "elapsed": 10,
     "status": "ok",
     "timestamp": 1716926244053,
     "user": {
      "displayName": "Afonso Augusto Rios",
      "userId": "05972796828124452071"
     },
     "user_tz": 180
    },
    "id": "oYGJsp84RWO6",
    "outputId": "705a9065-5eea-42f3-a501-a884e4a81d4b"
   },
   "outputs": [],
   "source": [
    "# Quais são as features do nosso modelo?\n",
    "..."
   ]
  },
  {
   "cell_type": "code",
   "execution_count": 43,
   "metadata": {
    "executionInfo": {
     "elapsed": 9,
     "status": "ok",
     "timestamp": 1716926244053,
     "user": {
      "displayName": "Afonso Augusto Rios",
      "userId": "05972796828124452071"
     },
     "user_tz": 180
    },
    "id": "yZGLJLsRRWMA"
   },
   "outputs": [],
   "source": [
    "# Nova casa\n",
    "..."
   ]
  },
  {
   "cell_type": "code",
   "execution_count": null,
   "metadata": {
    "colab": {
     "base_uri": "https://localhost:8080/"
    },
    "executionInfo": {
     "elapsed": 9,
     "status": "ok",
     "timestamp": 1716926244053,
     "user": {
      "displayName": "Afonso Augusto Rios",
      "userId": "05972796828124452071"
     },
     "user_tz": 180
    },
    "id": "nh-xeUlJbYXs",
    "outputId": "6bb82087-5e8d-429b-f0bc-27a6ef7a660d"
   },
   "outputs": [],
   "source": [
    "# Qual o preço dessa casa?\n",
    "..."
   ]
  },
  {
   "cell_type": "code",
   "execution_count": null,
   "metadata": {
    "colab": {
     "base_uri": "https://localhost:8080/"
    },
    "executionInfo": {
     "elapsed": 9,
     "status": "ok",
     "timestamp": 1716926244054,
     "user": {
      "displayName": "Afonso Augusto Rios",
      "userId": "05972796828124452071"
     },
     "user_tz": 180
    },
    "id": "dA84POuhasQt",
    "outputId": "18293816-fc35-4fa2-8eb2-59198f0c8396"
   },
   "outputs": [],
   "source": []
  },
  {
   "cell_type": "markdown",
   "metadata": {
    "id": "LL08hykvbsaF"
   },
   "source": [
    "Prontinho, conseguimos finalmente precificar a nossa 1ª casa com modelo que criamos. Mas como a área, por exemplo do 1º andar influencia em nosso modelo? E o fato de ter ou não 2º andar?\n",
    "\n",
    "Vamos entender os coeficientes e consequentemente a contribuição da cada variável no preço?"
   ]
  },
  {
   "cell_type": "markdown",
   "metadata": {
    "id": "2fdy7ZMN-7Xh"
   },
   "source": [
    "# **Aula 5 - Entendendo os resultados**"
   ]
  },
  {
   "cell_type": "markdown",
   "metadata": {
    "id": "Jum0As0K-7Xh"
   },
   "source": [
    "## **5.1 - Obtendo os coeficientes da regressão linear**\n",
    "\n",
    "---\n",
    "\n"
   ]
  },
  {
   "cell_type": "markdown",
   "metadata": {
    "id": "usFKN4tfqOq4"
   },
   "source": [
    "<img src=\"https://github.com/afonsosr2/data-science-regressao-linear/blob/main/imagens/coef_slide.png?raw=true\" alt=\"Imagem com os coeficientes de regressão\" width=720>"
   ]
  },
  {
   "cell_type": "markdown",
   "metadata": {
    "id": "p0UFAxQRjUSS"
   },
   "source": [
    "#### **Intercepto**\n",
    "\n",
    "O **intercepto** representa o valor médio em $Y$ (Valor do imóvel) tendo todas as variáveis explicativas excluídas do modelo.\n",
    "\n",
    "No caso do modelo log-log, este coeficiente ($ln\\beta_0$) deve ser transformado com o uso da função exponencial (aplicando $e^{ln\\beta_0}$) para ser apresentado em reais."
   ]
  },
  {
   "cell_type": "code",
   "execution_count": null,
   "metadata": {
    "colab": {
     "base_uri": "https://localhost:8080/"
    },
    "executionInfo": {
     "elapsed": 12,
     "status": "ok",
     "timestamp": 1716926244468,
     "user": {
      "displayName": "Afonso Augusto Rios",
      "userId": "05972796828124452071"
     },
     "user_tz": 180
    },
    "id": "EflWCuH4J0nw",
    "outputId": "905ae454-ef47-4c83-b2e4-211038604ef0"
   },
   "outputs": [],
   "source": [
    "## lendo o valor do intercepto em log\n"
   ]
  },
  {
   "cell_type": "code",
   "execution_count": null,
   "metadata": {
    "colab": {
     "base_uri": "https://localhost:8080/"
    },
    "executionInfo": {
     "elapsed": 11,
     "status": "ok",
     "timestamp": 1716926244468,
     "user": {
      "displayName": "Afonso Augusto Rios",
      "userId": "05972796828124452071"
     },
     "user_tz": 180
    },
    "id": "KM6oy-2Xnk0T",
    "outputId": "620e3a7c-0466-4c7b-cfe0-039568a9eb9e"
   },
   "outputs": [],
   "source": [
    "## Transformando o efeito do intercepto em reais\n"
   ]
  },
  {
   "cell_type": "markdown",
   "metadata": {
    "id": "zVhjH-BzoKCl"
   },
   "source": [
    "#### **Coeficientes de regressão**\n",
    "\n",
    "Os **coeficientes de regressão** $\\beta_1$,  $\\beta_2$, $\\beta_3$ e $\\beta_4$ são conhecidos como **coeficientes parciais de regressão**.\n",
    "\n",
    "Uma característica peculiar do modelo log-log, que o tornou muito utilizado em modelos de regressão linear, é que seus coeficientes angulares ($\\beta_1$, $\\beta_3$ e $\\beta_4$) medem as elasticidades de $Y$ em relação a $X_1$, $X_3$ e $X_4$, isto é, uma variação percentual de $Y$ corresponde a uma dada variação percentual (pequena) em $X_1$, $X_3$ e $X_4$.\n",
    "\n",
    "Como você pode notar, o $\\beta_2$ não entra nesse caso, pois o coeficiente de uma variável binária/dummy **não dita uma elasticidade**, pois você não pode alterar esse tipo de variável por uma certa porcentagem. Ela vai de 0 a 1 ou de 1 a 0."
   ]
  },
  {
   "cell_type": "code",
   "execution_count": null,
   "metadata": {
    "colab": {
     "base_uri": "https://localhost:8080/"
    },
    "executionInfo": {
     "elapsed": 10,
     "status": "ok",
     "timestamp": 1716926244468,
     "user": {
      "displayName": "Afonso Augusto Rios",
      "userId": "05972796828124452071"
     },
     "user_tz": 180
    },
    "id": "hbeoDBVApxI4",
    "outputId": "e3856374-3cbc-439f-a2b9-1aa783b9fa87"
   },
   "outputs": [],
   "source": [
    "# Lendo os coeficientes\n",
    "..."
   ]
  },
  {
   "cell_type": "markdown",
   "metadata": {
    "id": "hXQgJ1h7pzGh"
   },
   "source": [
    "### **Construindo uma tabela (DataFrame) com os coeficientes e seus valores**"
   ]
  },
  {
   "cell_type": "code",
   "execution_count": null,
   "metadata": {
    "colab": {
     "base_uri": "https://localhost:8080/"
    },
    "executionInfo": {
     "elapsed": 8,
     "status": "ok",
     "timestamp": 1716926244468,
     "user": {
      "displayName": "Afonso Augusto Rios",
      "userId": "05972796828124452071"
     },
     "user_tz": 180
    },
    "id": "6QsX9H_kpw93",
    "outputId": "fd5ed5ab-12f3-43d7-9c10-49352169ff3b"
   },
   "outputs": [],
   "source": []
  },
  {
   "cell_type": "code",
   "execution_count": 50,
   "metadata": {
    "executionInfo": {
     "elapsed": 8,
     "status": "ok",
     "timestamp": 1716926244469,
     "user": {
      "displayName": "Afonso Augusto Rios",
      "userId": "05972796828124452071"
     },
     "user_tz": 180
    },
    "id": "aeiIvGrBqJmV"
   },
   "outputs": [],
   "source": [
    "## Criando o índice dos coeficientes\n",
    "..."
   ]
  },
  {
   "cell_type": "code",
   "execution_count": 51,
   "metadata": {
    "executionInfo": {
     "elapsed": 7,
     "status": "ok",
     "timestamp": 1716926244469,
     "user": {
      "displayName": "Afonso Augusto Rios",
      "userId": "05972796828124452071"
     },
     "user_tz": 180
    },
    "id": "LdwIsh1sqP7T"
   },
   "outputs": [],
   "source": [
    "## Criando o df\n",
    "..."
   ]
  },
  {
   "cell_type": "code",
   "execution_count": null,
   "metadata": {
    "colab": {
     "base_uri": "https://localhost:8080/",
     "height": 206
    },
    "executionInfo": {
     "elapsed": 7,
     "status": "ok",
     "timestamp": 1716926244469,
     "user": {
      "displayName": "Afonso Augusto Rios",
      "userId": "05972796828124452071"
     },
     "user_tz": 180
    },
    "id": "e9oJU2QgqYCY",
    "outputId": "064eba85-ee19-4633-9974-e0c37a8abc6b"
   },
   "outputs": [],
   "source": []
  },
  {
   "cell_type": "markdown",
   "metadata": {
    "id": "uNQxRbaFLwv3"
   },
   "source": [
    "## **5.2 Interpretando os coeficientes estimados**\n",
    "\n",
    "---\n",
    "\n"
   ]
  },
  {
   "cell_type": "markdown",
   "metadata": {
    "id": "Vdj6fZgXKS8y"
   },
   "source": [
    "#### **Nosso Modelo:**\n",
    "\n",
    "<img src=\"https://github.com/afonsosr2/data-science-regressao-linear/blob/main/imagens/modelo_log-log_3.png?raw=true\" alt=\"Nosso modelo construído\" width=720>"
   ]
  },
  {
   "cell_type": "markdown",
   "metadata": {
    "id": "x9o1dGjqMBj8"
   },
   "source": [
    "**Intercepto →** Excluindo o efeito de todas as variáveis explicativas, o efeito médio no Valor do Imóvel seria de **R$ 71.294,33**. (exp[11.175])\n",
    "\n",
    "**Área do 1º andar (m²)** → Mantendo-se os valores de todas as outras variáveis explicativas constantes, um acréscimo de 1% na Área do 1º andar do imóvel gera, em média, um **acréscimo de 0.5%** no Valor do Imóvel.\n",
    "\n",
    "**Área do Quintal (m²)** → Mantendo-se os valores de todas as outras variáveis explicativas constantes, um acréscimo de 1% na Área do Quintal do imóvel gera, em média, um **acréscimo de 0.079%** no Valor do Imóvel.\n",
    "\n",
    "**Distância até o metrô (km)** → Mantendo-se os valores de todas as outras variáveis explicativas constantes, um acréscimo de 1% na Distância até o metrô gera, em média, um **decréscimo de 0.26%** no Valor do Imóvel.\n",
    "\n"
   ]
  },
  {
   "cell_type": "markdown",
   "metadata": {
    "id": "ERxktkMBLbgJ"
   },
   "source": [
    "***E a variável `existe_segundo_andar`?***"
   ]
  },
  {
   "cell_type": "markdown",
   "metadata": {
    "id": "9G7jFBcgMvMJ"
   },
   "source": [
    "O impacto de uma variável **binária** ou ***dummy*** sobre o valor do imóvel é calculado de maneira diferente.\n",
    "\n",
    "Se o valor **varia de 0 para 1** em $X_2$, o impacto, em porcentagem, é calculado da seguinte forma:\n",
    "\n",
    "$$100 * (e^{\\beta_2} - 1)$$\n",
    "\n",
    "E se o **valor varia de 1 para 0**:\n",
    "$$100 * (e^{-\\beta_2} - 1)$$\n",
    "\n",
    "Onde, $\\beta_2$ é o valor do coeficiente de `existe_segundo_andar`."
   ]
  },
  {
   "cell_type": "code",
   "execution_count": null,
   "metadata": {
    "colab": {
     "base_uri": "https://localhost:8080/"
    },
    "executionInfo": {
     "elapsed": 6,
     "status": "ok",
     "timestamp": 1716926244469,
     "user": {
      "displayName": "Afonso Augusto Rios",
      "userId": "05972796828124452071"
     },
     "user_tz": 180
    },
    "id": "y8Zm2fPnLYhK",
    "outputId": "ab8a2980-2123-4039-c7cc-8c31b4254870"
   },
   "outputs": [],
   "source": [
    "# Efeito da dummy\n",
    "..."
   ]
  },
  {
   "cell_type": "markdown",
   "metadata": {
    "id": "KFkL3cQv-7Xh"
   },
   "source": [
    "## **5.3 - Analisando graficamente os resultados do modelo**\n",
    "\n",
    "---\n",
    "\n"
   ]
  },
  {
   "cell_type": "markdown",
   "metadata": {
    "id": "yjY3GpqzcI5I"
   },
   "source": [
    "Vamos agora analisar graficamente os resultados de nosso modelo, gerando previsões de casas para os dados de treino."
   ]
  },
  {
   "cell_type": "markdown",
   "metadata": {
    "id": "xYavLzjmjyVb"
   },
   "source": [
    "### **Analisando pelos dados de TREINO**"
   ]
  },
  {
   "cell_type": "markdown",
   "metadata": {
    "id": "h8sr2FGdjpmp"
   },
   "source": [
    "#### **Gerando previsões para os dados de treino**"
   ]
  },
  {
   "cell_type": "code",
   "execution_count": 54,
   "metadata": {
    "executionInfo": {
     "elapsed": 5,
     "status": "ok",
     "timestamp": 1716926244469,
     "user": {
      "displayName": "Afonso Augusto Rios",
      "userId": "05972796828124452071"
     },
     "user_tz": 180
    },
    "id": "skguORaisEIA"
   },
   "outputs": [],
   "source": []
  },
  {
   "cell_type": "markdown",
   "metadata": {
    "id": "pkJrgS0jdz9N"
   },
   "source": [
    "#### **Gráfico de dispersão entre o valor estimado e real**"
   ]
  },
  {
   "cell_type": "code",
   "execution_count": null,
   "metadata": {
    "colab": {
     "base_uri": "https://localhost:8080/",
     "height": 369
    },
    "executionInfo": {
     "elapsed": 921,
     "status": "ok",
     "timestamp": 1716926245385,
     "user": {
      "displayName": "Afonso Augusto Rios",
      "userId": "05972796828124452071"
     },
     "user_tz": 180
    },
    "id": "wBE13QkedsaR",
    "outputId": "a6d535de-e8cc-468d-bb3e-a38296001b7b"
   },
   "outputs": [],
   "source": [
    "...\n",
    "\n",
    "ax.figure.set_size_inches(12, 6)\n",
    "ax.set_title('Previsão X Real', fontsize=18)\n",
    "ax.set_xlabel('log do Preço - Previsão', fontsize=14)\n",
    "ax.set_ylabel('log do Preço - Real', fontsize=14)\n",
    "plt.show()"
   ]
  },
  {
   "cell_type": "markdown",
   "metadata": {
    "id": "wRNiYmIFkL48"
   },
   "source": [
    "#### **Obtendo os resíduos e observando seu comportamento**"
   ]
  },
  {
   "cell_type": "code",
   "execution_count": 56,
   "metadata": {
    "executionInfo": {
     "elapsed": 4,
     "status": "ok",
     "timestamp": 1716926245385,
     "user": {
      "displayName": "Afonso Augusto Rios",
      "userId": "05972796828124452071"
     },
     "user_tz": 180
    },
    "id": "mGRmnYY-dsXc"
   },
   "outputs": [],
   "source": []
  },
  {
   "cell_type": "code",
   "execution_count": null,
   "metadata": {
    "colab": {
     "base_uri": "https://localhost:8080/",
     "height": 374
    },
    "executionInfo": {
     "elapsed": 922,
     "status": "ok",
     "timestamp": 1716926246303,
     "user": {
      "displayName": "Afonso Augusto Rios",
      "userId": "05972796828124452071"
     },
     "user_tz": 180
    },
    "id": "0qaXT2FvdsU0",
    "outputId": "fc21f4f1-e138-4dc3-a973-f9993e98c0db"
   },
   "outputs": [],
   "source": [
    "...\n",
    "\n",
    "ax.figure.set_size_inches(12, 6)\n",
    "ax.set_title('Distribuição de Frequências dos Resíduos', fontsize=18)\n",
    "ax.set_xlabel('log do Preço', fontsize=14)\n",
    "plt.show()"
   ]
  },
  {
   "cell_type": "markdown",
   "metadata": {
    "id": "kZTP7V2ekYRe"
   },
   "source": [
    "##### **Homocedasticidade do modelo**"
   ]
  },
  {
   "cell_type": "code",
   "execution_count": null,
   "metadata": {
    "colab": {
     "base_uri": "https://localhost:8080/",
     "height": 368
    },
    "executionInfo": {
     "elapsed": 1045,
     "status": "ok",
     "timestamp": 1716926247343,
     "user": {
      "displayName": "Afonso Augusto Rios",
      "userId": "05972796828124452071"
     },
     "user_tz": 180
    },
    "id": "IjslWdJakXai",
    "outputId": "8a40963c-c3e9-434e-c060-7b134ad42a12"
   },
   "outputs": [],
   "source": [
    "...\n",
    "\n",
    "ax.figure.set_size_inches(12, 6)\n",
    "ax.set_title('Previsão x Resíduos', fontsize=18)\n",
    "ax.set_xlabel('log do Preço - Previsão', fontsize=14)\n",
    "ax.set_ylabel('Resíduos', fontsize=14)\n",
    "plt.show()"
   ]
  },
  {
   "cell_type": "markdown",
   "metadata": {
    "id": "dSV-fvBn-7Xi"
   },
   "source": [
    "## **5.4 - Salvando o modelo e prevendo mais casas**\n",
    "\n",
    "---\n",
    "\n"
   ]
  },
  {
   "cell_type": "markdown",
   "metadata": {
    "id": "frcg2Zoqm_ys"
   },
   "source": [
    "Para salvar o nosso modelo vamos utilizar a biblioteca [pickle](https://docs.python.org/3/library/pickle.html) que é serve para serializar e desserializar objetos, permitindo que você salve objetos Python em um arquivo e depois os recupere.\n",
    "\n",
    "Em outras palavras, ela converte objetos Python em uma representação binária (serialização) para armazenamento ou transmissão e depois reconstrói esses objetos a partir dessa representação (desserialização)."
   ]
  },
  {
   "cell_type": "code",
   "execution_count": 59,
   "metadata": {
    "executionInfo": {
     "elapsed": 7,
     "status": "ok",
     "timestamp": 1716926247343,
     "user": {
      "displayName": "Afonso Augusto Rios",
      "userId": "05972796828124452071"
     },
     "user_tz": 180
    },
    "id": "Cu0bkdWEnl9d"
   },
   "outputs": [],
   "source": []
  },
  {
   "cell_type": "code",
   "execution_count": 60,
   "metadata": {
    "executionInfo": {
     "elapsed": 5,
     "status": "ok",
     "timestamp": 1716926247343,
     "user": {
      "displayName": "Afonso Augusto Rios",
      "userId": "05972796828124452071"
     },
     "user_tz": 180
    },
    "id": "FOuLGcNjnoeM"
   },
   "outputs": [],
   "source": []
  },
  {
   "cell_type": "markdown",
   "metadata": {
    "id": "2zAtVPMuoEdt"
   },
   "source": [
    "Vamos agora salvar o arquivo pickle e baixar os arquivos \"casas_a_precificar.csv\" e \"Precificando mais casas.ipynb\" que estão nas atividades desse curso."
   ]
  }
 ],
 "metadata": {
  "colab": {
   "authorship_tag": "ABX9TyONpANXNxHY79R2lAoeBGVF",
   "provenance": []
  },
  "kernelspec": {
   "display_name": ".venv",
   "language": "python",
   "name": "python3"
  },
  "language_info": {
   "codemirror_mode": {
    "name": "ipython",
    "version": 3
   },
   "file_extension": ".py",
   "mimetype": "text/x-python",
   "name": "python",
   "nbconvert_exporter": "python",
   "pygments_lexer": "ipython3",
   "version": "3.12.8"
  }
 },
 "nbformat": 4,
 "nbformat_minor": 0
}
